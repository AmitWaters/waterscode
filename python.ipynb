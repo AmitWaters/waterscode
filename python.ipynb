{
  "cells": [
    {
      "cell_type": "markdown",
      "metadata": {
        "id": "view-in-github",
        "colab_type": "text"
      },
      "source": [
        "<a href=\"https://colab.research.google.com/github/AmitWaters/waterscode/blob/main/python.ipynb\" target=\"_parent\"><img src=\"https://colab.research.google.com/assets/colab-badge.svg\" alt=\"Open In Colab\"/></a>"
      ]
    },
    {
      "cell_type": "code",
      "execution_count": 3,
      "id": "cb63e4f0-95e3-4244-8a6f-3e52ee525565",
      "metadata": {
        "colab": {
          "base_uri": "https://localhost:8080/"
        },
        "id": "cb63e4f0-95e3-4244-8a6f-3e52ee525565",
        "outputId": "e102f60f-fb67-447f-f34d-b2b4784a10e6"
      },
      "outputs": [
        {
          "output_type": "stream",
          "name": "stdout",
          "text": [
            "\n",
            "*\n",
            "**\n",
            "***\n",
            "****\n"
          ]
        }
      ],
      "source": [
        "x = 5\n",
        "for i in range(x):\n",
        "  print(i * '*')"
      ]
    },
    {
      "cell_type": "code",
      "source": [
        "x = 10\n",
        "for i in range(x):\n",
        "  print(i * '*')"
      ],
      "metadata": {
        "colab": {
          "base_uri": "https://localhost:8080/"
        },
        "id": "aqjMSG-LQf5P",
        "outputId": "0440467c-f931-4c05-b8e9-d306a8202f72"
      },
      "id": "aqjMSG-LQf5P",
      "execution_count": null,
      "outputs": [
        {
          "output_type": "stream",
          "name": "stdout",
          "text": [
            "\n",
            "*\n",
            "**\n",
            "***\n",
            "****\n",
            "*****\n",
            "******\n",
            "*******\n",
            "********\n",
            "*********\n"
          ]
        }
      ]
    },
    {
      "cell_type": "code",
      "execution_count": null,
      "id": "b2239025-a827-47c6-9686-b9020162cd43",
      "metadata": {
        "id": "b2239025-a827-47c6-9686-b9020162cd43"
      },
      "outputs": [],
      "source": [
        "# General Purpose\n",
        "import numpy as np\n",
        "from matplotlib import pyplot as plt\n",
        "from scipy.integrate import odeint\n",
        "\n",
        "# Jupyter Specifics\n",
        "from IPython.display import HTML\n",
        "from ipywidgets.widgets import interact, IntSlider, FloatSlider, Layout\n",
        "\n",
        "%matplotlib inline\n",
        "\n",
        "style = {'description_width': '150px'}\n",
        "slider_layout = Layout(width='99%')"
      ]
    },
    {
      "cell_type": "code",
      "execution_count": null,
      "id": "ae9c399a-ec89-43ec-a294-bae19541d95e",
      "metadata": {
        "id": "ae9c399a-ec89-43ec-a294-bae19541d95e"
      },
      "outputs": [],
      "source": [
        "def plotparabola(a, b, c):\n",
        "    x = np.arange(-10,10)\n",
        "    y = a*x**2 + b*x + c\n",
        "    plt.plot(x,y)\n",
        "    plt.grid()\n",
        "    plt.show()"
      ]
    },
    {
      "cell_type": "code",
      "execution_count": null,
      "id": "2f207d39-9990-4f11-8766-3d1870a0b8a3",
      "metadata": {
        "colab": {
          "base_uri": "https://localhost:8080/",
          "height": 361,
          "referenced_widgets": [
            "8d42e4eb515046c8ae2b8e5949f8cfcc",
            "ed09d6cd62664dfea7d2de66b17a138b",
            "26b7d60d6c354076836fbfdaced2f423",
            "19dd2bee1a9c454894df7aaeb323346b",
            "0d845218a8ce46d2b784ac6d788d5f48",
            "4ecafaf7015440078c8340bac2782612",
            "573575612b424e52a1a44f9a3de5f944",
            "e7bad70ad87044388033f27d75d9ddbb",
            "1eb0936b887d4dad94550029dfe89c21",
            "597d91fa893e4b1b80eb0dfee45c82cc",
            "51675257aed04f3a8c201e895e9ee169",
            "0616a53283674399a65488d844fa05f4",
            "63be5fdf87d34339bb8d581b4e1ef3e9"
          ]
        },
        "id": "2f207d39-9990-4f11-8766-3d1870a0b8a3",
        "outputId": "21fdf4f1-d9ce-45d2-eadb-d5f58392b6ff"
      },
      "outputs": [
        {
          "output_type": "display_data",
          "data": {
            "application/vnd.jupyter.widget-view+json": {
              "model_id": "8d42e4eb515046c8ae2b8e5949f8cfcc",
              "version_minor": 0,
              "version_major": 2
            },
            "text/plain": [
              "interactive(children=(FloatSlider(value=2.0, description='curvature', max=5.0, min=-5.0), FloatSlider(value=2.…"
            ]
          },
          "metadata": {}
        }
      ],
      "source": [
        "interact(plotparabola, a=FloatSlider(min=-5, max=5, value=2, description='curvature'), b=FloatSlider(min=-5, max=5, value=2, description='linear term') , c=FloatSlider(min=-5, max=5, value=-2, description='intercept'));\n"
      ]
    },
    {
      "cell_type": "code",
      "execution_count": null,
      "id": "9e8d2df2-14fb-48d0-9eb5-c60274869a74",
      "metadata": {
        "id": "9e8d2df2-14fb-48d0-9eb5-c60274869a74"
      },
      "outputs": [],
      "source": [
        ""
      ]
    }
  ],
  "metadata": {
    "kernelspec": {
      "display_name": "Python 3",
      "language": "python",
      "name": "python3"
    },
    "language_info": {
      "codemirror_mode": {
        "name": "ipython",
        "version": 3
      },
      "file_extension": ".py",
      "mimetype": "text/x-python",
      "name": "python",
      "nbconvert_exporter": "python",
      "pygments_lexer": "ipython3",
      "version": "3.7.8"
    },
    "colab": {
      "name": "python.ipynb",
      "provenance": [],
      "collapsed_sections": [],
      "include_colab_link": true
    },
    "widgets": {
      "application/vnd.jupyter.widget-state+json": {
        "8d42e4eb515046c8ae2b8e5949f8cfcc": {
          "model_module": "@jupyter-widgets/controls",
          "model_name": "VBoxModel",
          "model_module_version": "1.5.0",
          "state": {
            "_view_name": "VBoxView",
            "_dom_classes": [
              "widget-interact"
            ],
            "_model_name": "VBoxModel",
            "_view_module": "@jupyter-widgets/controls",
            "_model_module_version": "1.5.0",
            "_view_count": null,
            "_view_module_version": "1.5.0",
            "box_style": "",
            "layout": "IPY_MODEL_ed09d6cd62664dfea7d2de66b17a138b",
            "_model_module": "@jupyter-widgets/controls",
            "children": [
              "IPY_MODEL_26b7d60d6c354076836fbfdaced2f423",
              "IPY_MODEL_19dd2bee1a9c454894df7aaeb323346b",
              "IPY_MODEL_0d845218a8ce46d2b784ac6d788d5f48",
              "IPY_MODEL_4ecafaf7015440078c8340bac2782612"
            ]
          }
        },
        "ed09d6cd62664dfea7d2de66b17a138b": {
          "model_module": "@jupyter-widgets/base",
          "model_name": "LayoutModel",
          "model_module_version": "1.2.0",
          "state": {
            "_view_name": "LayoutView",
            "grid_template_rows": null,
            "right": null,
            "justify_content": null,
            "_view_module": "@jupyter-widgets/base",
            "overflow": null,
            "_model_module_version": "1.2.0",
            "_view_count": null,
            "flex_flow": null,
            "width": null,
            "min_width": null,
            "border": null,
            "align_items": null,
            "bottom": null,
            "_model_module": "@jupyter-widgets/base",
            "top": null,
            "grid_column": null,
            "overflow_y": null,
            "overflow_x": null,
            "grid_auto_flow": null,
            "grid_area": null,
            "grid_template_columns": null,
            "flex": null,
            "_model_name": "LayoutModel",
            "justify_items": null,
            "grid_row": null,
            "max_height": null,
            "align_content": null,
            "visibility": null,
            "align_self": null,
            "height": null,
            "min_height": null,
            "padding": null,
            "grid_auto_rows": null,
            "grid_gap": null,
            "max_width": null,
            "order": null,
            "_view_module_version": "1.2.0",
            "grid_template_areas": null,
            "object_position": null,
            "object_fit": null,
            "grid_auto_columns": null,
            "margin": null,
            "display": null,
            "left": null
          }
        },
        "26b7d60d6c354076836fbfdaced2f423": {
          "model_module": "@jupyter-widgets/controls",
          "model_name": "FloatSliderModel",
          "model_module_version": "1.5.0",
          "state": {
            "_view_name": "FloatSliderView",
            "style": "IPY_MODEL_573575612b424e52a1a44f9a3de5f944",
            "_dom_classes": [],
            "description": "curvature",
            "step": 0.1,
            "_model_name": "FloatSliderModel",
            "orientation": "horizontal",
            "max": 5,
            "_view_module": "@jupyter-widgets/controls",
            "_model_module_version": "1.5.0",
            "value": 2,
            "_view_count": null,
            "disabled": false,
            "_view_module_version": "1.5.0",
            "min": -5,
            "continuous_update": true,
            "readout_format": ".2f",
            "description_tooltip": null,
            "readout": true,
            "_model_module": "@jupyter-widgets/controls",
            "layout": "IPY_MODEL_e7bad70ad87044388033f27d75d9ddbb"
          }
        },
        "19dd2bee1a9c454894df7aaeb323346b": {
          "model_module": "@jupyter-widgets/controls",
          "model_name": "FloatSliderModel",
          "model_module_version": "1.5.0",
          "state": {
            "_view_name": "FloatSliderView",
            "style": "IPY_MODEL_1eb0936b887d4dad94550029dfe89c21",
            "_dom_classes": [],
            "description": "linear term",
            "step": 0.1,
            "_model_name": "FloatSliderModel",
            "orientation": "horizontal",
            "max": 5,
            "_view_module": "@jupyter-widgets/controls",
            "_model_module_version": "1.5.0",
            "value": 2,
            "_view_count": null,
            "disabled": false,
            "_view_module_version": "1.5.0",
            "min": -5,
            "continuous_update": true,
            "readout_format": ".2f",
            "description_tooltip": null,
            "readout": true,
            "_model_module": "@jupyter-widgets/controls",
            "layout": "IPY_MODEL_597d91fa893e4b1b80eb0dfee45c82cc"
          }
        },
        "0d845218a8ce46d2b784ac6d788d5f48": {
          "model_module": "@jupyter-widgets/controls",
          "model_name": "FloatSliderModel",
          "model_module_version": "1.5.0",
          "state": {
            "_view_name": "FloatSliderView",
            "style": "IPY_MODEL_51675257aed04f3a8c201e895e9ee169",
            "_dom_classes": [],
            "description": "intercept",
            "step": 0.1,
            "_model_name": "FloatSliderModel",
            "orientation": "horizontal",
            "max": 5,
            "_view_module": "@jupyter-widgets/controls",
            "_model_module_version": "1.5.0",
            "value": -2,
            "_view_count": null,
            "disabled": false,
            "_view_module_version": "1.5.0",
            "min": -5,
            "continuous_update": true,
            "readout_format": ".2f",
            "description_tooltip": null,
            "readout": true,
            "_model_module": "@jupyter-widgets/controls",
            "layout": "IPY_MODEL_0616a53283674399a65488d844fa05f4"
          }
        },
        "4ecafaf7015440078c8340bac2782612": {
          "model_module": "@jupyter-widgets/output",
          "model_name": "OutputModel",
          "model_module_version": "1.0.0",
          "state": {
            "_view_name": "OutputView",
            "msg_id": "",
            "_dom_classes": [],
            "_model_name": "OutputModel",
            "outputs": [
              {
                "output_type": "display_data",
                "data": {
                  "image/png": "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\n",
                  "text/plain": "<Figure size 432x288 with 1 Axes>"
                },
                "metadata": {
                  "needs_background": "light"
                }
              }
            ],
            "_view_module": "@jupyter-widgets/output",
            "_model_module_version": "1.0.0",
            "_view_count": null,
            "_view_module_version": "1.0.0",
            "layout": "IPY_MODEL_63be5fdf87d34339bb8d581b4e1ef3e9",
            "_model_module": "@jupyter-widgets/output"
          }
        },
        "573575612b424e52a1a44f9a3de5f944": {
          "model_module": "@jupyter-widgets/controls",
          "model_name": "SliderStyleModel",
          "model_module_version": "1.5.0",
          "state": {
            "_view_name": "StyleView",
            "handle_color": null,
            "_model_name": "SliderStyleModel",
            "description_width": "",
            "_view_module": "@jupyter-widgets/base",
            "_model_module_version": "1.5.0",
            "_view_count": null,
            "_view_module_version": "1.2.0",
            "_model_module": "@jupyter-widgets/controls"
          }
        },
        "e7bad70ad87044388033f27d75d9ddbb": {
          "model_module": "@jupyter-widgets/base",
          "model_name": "LayoutModel",
          "model_module_version": "1.2.0",
          "state": {
            "_view_name": "LayoutView",
            "grid_template_rows": null,
            "right": null,
            "justify_content": null,
            "_view_module": "@jupyter-widgets/base",
            "overflow": null,
            "_model_module_version": "1.2.0",
            "_view_count": null,
            "flex_flow": null,
            "width": null,
            "min_width": null,
            "border": null,
            "align_items": null,
            "bottom": null,
            "_model_module": "@jupyter-widgets/base",
            "top": null,
            "grid_column": null,
            "overflow_y": null,
            "overflow_x": null,
            "grid_auto_flow": null,
            "grid_area": null,
            "grid_template_columns": null,
            "flex": null,
            "_model_name": "LayoutModel",
            "justify_items": null,
            "grid_row": null,
            "max_height": null,
            "align_content": null,
            "visibility": null,
            "align_self": null,
            "height": null,
            "min_height": null,
            "padding": null,
            "grid_auto_rows": null,
            "grid_gap": null,
            "max_width": null,
            "order": null,
            "_view_module_version": "1.2.0",
            "grid_template_areas": null,
            "object_position": null,
            "object_fit": null,
            "grid_auto_columns": null,
            "margin": null,
            "display": null,
            "left": null
          }
        },
        "1eb0936b887d4dad94550029dfe89c21": {
          "model_module": "@jupyter-widgets/controls",
          "model_name": "SliderStyleModel",
          "model_module_version": "1.5.0",
          "state": {
            "_view_name": "StyleView",
            "handle_color": null,
            "_model_name": "SliderStyleModel",
            "description_width": "",
            "_view_module": "@jupyter-widgets/base",
            "_model_module_version": "1.5.0",
            "_view_count": null,
            "_view_module_version": "1.2.0",
            "_model_module": "@jupyter-widgets/controls"
          }
        },
        "597d91fa893e4b1b80eb0dfee45c82cc": {
          "model_module": "@jupyter-widgets/base",
          "model_name": "LayoutModel",
          "model_module_version": "1.2.0",
          "state": {
            "_view_name": "LayoutView",
            "grid_template_rows": null,
            "right": null,
            "justify_content": null,
            "_view_module": "@jupyter-widgets/base",
            "overflow": null,
            "_model_module_version": "1.2.0",
            "_view_count": null,
            "flex_flow": null,
            "width": null,
            "min_width": null,
            "border": null,
            "align_items": null,
            "bottom": null,
            "_model_module": "@jupyter-widgets/base",
            "top": null,
            "grid_column": null,
            "overflow_y": null,
            "overflow_x": null,
            "grid_auto_flow": null,
            "grid_area": null,
            "grid_template_columns": null,
            "flex": null,
            "_model_name": "LayoutModel",
            "justify_items": null,
            "grid_row": null,
            "max_height": null,
            "align_content": null,
            "visibility": null,
            "align_self": null,
            "height": null,
            "min_height": null,
            "padding": null,
            "grid_auto_rows": null,
            "grid_gap": null,
            "max_width": null,
            "order": null,
            "_view_module_version": "1.2.0",
            "grid_template_areas": null,
            "object_position": null,
            "object_fit": null,
            "grid_auto_columns": null,
            "margin": null,
            "display": null,
            "left": null
          }
        },
        "51675257aed04f3a8c201e895e9ee169": {
          "model_module": "@jupyter-widgets/controls",
          "model_name": "SliderStyleModel",
          "model_module_version": "1.5.0",
          "state": {
            "_view_name": "StyleView",
            "handle_color": null,
            "_model_name": "SliderStyleModel",
            "description_width": "",
            "_view_module": "@jupyter-widgets/base",
            "_model_module_version": "1.5.0",
            "_view_count": null,
            "_view_module_version": "1.2.0",
            "_model_module": "@jupyter-widgets/controls"
          }
        },
        "0616a53283674399a65488d844fa05f4": {
          "model_module": "@jupyter-widgets/base",
          "model_name": "LayoutModel",
          "model_module_version": "1.2.0",
          "state": {
            "_view_name": "LayoutView",
            "grid_template_rows": null,
            "right": null,
            "justify_content": null,
            "_view_module": "@jupyter-widgets/base",
            "overflow": null,
            "_model_module_version": "1.2.0",
            "_view_count": null,
            "flex_flow": null,
            "width": null,
            "min_width": null,
            "border": null,
            "align_items": null,
            "bottom": null,
            "_model_module": "@jupyter-widgets/base",
            "top": null,
            "grid_column": null,
            "overflow_y": null,
            "overflow_x": null,
            "grid_auto_flow": null,
            "grid_area": null,
            "grid_template_columns": null,
            "flex": null,
            "_model_name": "LayoutModel",
            "justify_items": null,
            "grid_row": null,
            "max_height": null,
            "align_content": null,
            "visibility": null,
            "align_self": null,
            "height": null,
            "min_height": null,
            "padding": null,
            "grid_auto_rows": null,
            "grid_gap": null,
            "max_width": null,
            "order": null,
            "_view_module_version": "1.2.0",
            "grid_template_areas": null,
            "object_position": null,
            "object_fit": null,
            "grid_auto_columns": null,
            "margin": null,
            "display": null,
            "left": null
          }
        },
        "63be5fdf87d34339bb8d581b4e1ef3e9": {
          "model_module": "@jupyter-widgets/base",
          "model_name": "LayoutModel",
          "model_module_version": "1.2.0",
          "state": {
            "_view_name": "LayoutView",
            "grid_template_rows": null,
            "right": null,
            "justify_content": null,
            "_view_module": "@jupyter-widgets/base",
            "overflow": null,
            "_model_module_version": "1.2.0",
            "_view_count": null,
            "flex_flow": null,
            "width": null,
            "min_width": null,
            "border": null,
            "align_items": null,
            "bottom": null,
            "_model_module": "@jupyter-widgets/base",
            "top": null,
            "grid_column": null,
            "overflow_y": null,
            "overflow_x": null,
            "grid_auto_flow": null,
            "grid_area": null,
            "grid_template_columns": null,
            "flex": null,
            "_model_name": "LayoutModel",
            "justify_items": null,
            "grid_row": null,
            "max_height": null,
            "align_content": null,
            "visibility": null,
            "align_self": null,
            "height": null,
            "min_height": null,
            "padding": null,
            "grid_auto_rows": null,
            "grid_gap": null,
            "max_width": null,
            "order": null,
            "_view_module_version": "1.2.0",
            "grid_template_areas": null,
            "object_position": null,
            "object_fit": null,
            "grid_auto_columns": null,
            "margin": null,
            "display": null,
            "left": null
          }
        }
      }
    }
  },
  "nbformat": 4,
  "nbformat_minor": 5
}